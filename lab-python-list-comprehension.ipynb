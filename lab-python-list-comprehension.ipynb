{
 "cells": [
  {
   "cell_type": "markdown",
   "id": "25d7736c-ba17-4aff-b6bb-66eba20fbf4e",
   "metadata": {},
   "source": [
    "# Lab | List, Dict and Set Comprehension"
   ]
  },
  {
   "cell_type": "markdown",
   "id": "7dd3cbde-675a-4b81-92c3-f728846dbe06",
   "metadata": {},
   "source": [
    "## Exercise: Managing Customer Orders Optimized with Comprehension"
   ]
  },
  {
   "cell_type": "markdown",
   "id": "5d500160-2fb7-4777-b5e4-09d45ebaf328",
   "metadata": {},
   "source": [
    "In the previous exercise, you developed a program to manage customer orders and inventory. Now, let's take it a step further and incorporate comprehension into your code.\n",
    "\n",
    "Follow the steps below to complete the exercise:\n",
    "\n",
    "1. Review your code from the previous exercise and identify areas where you can apply comprehension to simplify and streamline your code. \n",
    "\n",
    "    - *Hint: Apply it to initialize inventory, updating the inventory and printing the updated inventory.*\n",
    "    \n",
    "    - For example, in initializing the inventory, we could have:\n",
    "    \n",
    "        ```python\n",
    "        def initialize_inventory(products):\n",
    "            inventory = {product: int(input(f\"Enter the quantity of {product}s available: \")) for product in products}\n",
    "            return inventory\n",
    "\n",
    "        ```\n",
    "<br>\n",
    "    \n",
    "    \n",
    "2. Modify the function get_customer_orders so it prompts the user to enter the number of customer orders and gathers the product names using a loop and user input. Use comprehension.\n",
    "\n",
    "3. Add a new function to calculate the total price of the customer order. For each product in customer_orders, prompt the user to enter the price of that product. Use comprehension to calculate the total price. Note: assume that the user can only have 1 unit of each product.\n",
    "\n",
    "4. Modify the update_inventory function to remove the product from the inventory if its quantity becomes zero after fulfilling the customer orders. Use comprehension to filter out the products with a quantity of zero from the inventory.\n",
    "\n",
    "5. Print the total price of the customer order.\n",
    "\n",
    "Your code should produce output similar to the following:\n",
    "\n",
    "```python\n",
    "Enter the quantity of t-shirts available:  5\n",
    "Enter the quantity of mugs available:  4\n",
    "Enter the quantity of hats available:  3\n",
    "Enter the quantity of books available:  2\n",
    "Enter the quantity of keychains available:  1\n",
    "Enter the number of customer orders:  2\n",
    "Enter the name of a product that a customer wants to order:  hat\n",
    "Enter the name of a product that a customer wants to order:  keychain\n",
    "\n",
    "Order Statistics:\n",
    "Total Products Ordered: 2\n",
    "Percentage of Unique Products Ordered: 40.0\n",
    "\n",
    "Updated Inventory:\n",
    "t-shirt: 5\n",
    "mug: 4\n",
    "hat: 2\n",
    "book: 2\n",
    "Enter the price of keychain:  5\n",
    "Enter the price of hat:  10\n",
    "Total Price: 15.0\n",
    "\n",
    "```\n"
   ]
  },
  {
   "cell_type": "code",
   "execution_count": 4,
   "id": "d0e9da91-16c9-4d85-ae6a-65c9be886860",
   "metadata": {},
   "outputs": [],
   "source": [
    "def initialize_inventory(products):\n",
    "    inventory = {product: int(input(f\"Enter the quantity of {product}s available: \")) for product in products}\n",
    "    return inventory"
   ]
  },
  {
   "cell_type": "code",
   "execution_count": 5,
   "id": "f7ca3ed2-d954-49f7-b644-9217bfb0790c",
   "metadata": {},
   "outputs": [],
   "source": [
    "def get_customer_orders():\n",
    "    num_orders = int(input('Enter the number of customer orders:'))\n",
    "    customer_orders = {input(\"Enter the name of a product that a customer wants to order:\") for i in range(num_orders)}\n",
    "    return customer_orders"
   ]
  },
  {
   "cell_type": "code",
   "execution_count": 6,
   "id": "4bd349c3-4add-484e-99b1-a673af60f104",
   "metadata": {},
   "outputs": [],
   "source": [
    "def calculate_total_price (customer_orders):\n",
    "    total_price = sum(float(input(f' Please, enter the price of the {products}:')) for product in customer_orders)\n",
    "    return total_price"
   ]
  },
  {
   "cell_type": "code",
   "execution_count": 7,
   "id": "bf025d10-9e4f-4c5c-855a-fd808096c850",
   "metadata": {},
   "outputs": [],
   "source": [
    "def update_inventory(customer_orders, inventory):\n",
    "    for product in customer_orders:\n",
    "        if product in inventory and inventory[product] > 0:\n",
    "            inventory[product] -= 1\n",
    "            if inventory[product] == 0:\n",
    "                inventory.pop(product)\n",
    "    return inventory"
   ]
  },
  {
   "cell_type": "code",
   "execution_count": 8,
   "id": "c0edd797-591b-4e6c-80fc-412765c176f1",
   "metadata": {},
   "outputs": [],
   "source": [
    "def calculate_order_statistics(customer_orders, products):\n",
    "    total_products_ordered = len(customer_orders)\n",
    "    percentage_products_ordered = (total_products_ordered / len(products)) * 100\n",
    "    return total_products_ordered, percentage_products_ordered"
   ]
  },
  {
   "cell_type": "code",
   "execution_count": 9,
   "id": "92f8bfe5-7c7a-41ad-8eff-a787048cb79b",
   "metadata": {},
   "outputs": [],
   "source": [
    "def print_order_statistics(order_statistics):\n",
    "    print(\"\\nOrder statistics:\")\n",
    "    print(f\"Total Products Ordered: {order_statistics[0]}\")\n",
    "    print(f\"Percentage of Products Ordered: {order_statistics[1]}%\")"
   ]
  },
  {
   "cell_type": "code",
   "execution_count": 10,
   "id": "52bd1587-aa0d-4c43-90b7-b2d8a9c0648a",
   "metadata": {},
   "outputs": [],
   "source": [
    "def print_updated_inventory(inventory):\n",
    "    print(\"\\nUpdated inventory:\")\n",
    "    for product, quantity in inventory.items():\n",
    "        print(f\"{product}: {quantity}\")"
   ]
  },
  {
   "cell_type": "code",
   "execution_count": 11,
   "id": "c1f6826e-aca3-49a9-a4e1-1216ec810c61",
   "metadata": {},
   "outputs": [
    {
     "name": "stdin",
     "output_type": "stream",
     "text": [
      "Enter the quantity of t-shirts available:  10\n",
      "Enter the quantity of mugs available:  10\n",
      "Enter the quantity of hats available:  10\n",
      "Enter the quantity of books available:  10\n",
      "Enter the quantity of keychains available:  10\n"
     ]
    },
    {
     "name": "stdout",
     "output_type": "stream",
     "text": [
      "initial inventory:\n",
      "{'t-shirt': 10, 'mug': 10, 'hat': 10, 'book': 10, 'keychain': 10}\n"
     ]
    },
    {
     "name": "stdin",
     "output_type": "stream",
     "text": [
      "Enter the number of customer orders: 3\n",
      "Enter the name of a product that a customer wants to order: mug\n",
      "Enter the name of a product that a customer wants to order: hat\n",
      "Enter the name of a product that a customer wants to order: book\n"
     ]
    },
    {
     "name": "stdout",
     "output_type": "stream",
     "text": [
      "\n",
      "Customer orders\n",
      "{'book', 'mug', 'hat'}\n",
      "\n",
      "Order statistics:\n",
      "Total Products Ordered: 3\n",
      "Percentage of Products Ordered: 60.0%\n",
      "\n",
      "Updated inventory:\n",
      "t-shirt: 10\n",
      "mug: 9\n",
      "hat: 9\n",
      "book: 9\n",
      "keychain: 10\n"
     ]
    },
    {
     "name": "stdin",
     "output_type": "stream",
     "text": [
      " Please, enter the price of the ['t-shirt', 'mug', 'hat', 'book', 'keychain']: 15\n",
      " Please, enter the price of the ['t-shirt', 'mug', 'hat', 'book', 'keychain']: 16\n",
      " Please, enter the price of the ['t-shirt', 'mug', 'hat', 'book', 'keychain']: 17\n"
     ]
    },
    {
     "name": "stdout",
     "output_type": "stream",
     "text": [
      "\n",
      "Total Price: 48.0\n"
     ]
    },
    {
     "name": "stdout",
     "output_type": "stream",
     "text": [
      "Enter the number of customer orders: 3\n",
      "Enter the name of a product that a customer wants to order: book\n",
      "Enter the name of a product that a customer wants to order: hat\n",
      "Enter the name of a product that a customer wants to order: mug\n"
     ]
    },
    {
     "name": "stdout",
     "output_type": "stream",
     "text": [
      "\n",
      "Customer orders\n",
      "{'hat', 'book', 'mug'}\n",
      "\n",
      "Order statistics:\n",
      "Total Products Ordered: 3\n",
      "Percentage of Products Ordered: 60.0%\n",
      "\n",
      "Updated inventory:\n",
      "t-shirt: 9\n",
      "keychain: 9\n"
     ]
    },
    {
     "name": "stdout",
     "output_type": "stream",
     "text": [
      " Please, enter the price of the ['t-shirt', 'mug', 'hat', 'book', 'keychain']: 5\n",
      " Please, enter the price of the ['t-shirt', 'mug', 'hat', 'book', 'keychain']: 10\n",
      " Please, enter the price of the ['t-shirt', 'mug', 'hat', 'book', 'keychain']: 12\n"
     ]
    },
    {
     "name": "stdout",
     "output_type": "stream",
     "text": [
      "\n",
      "Total Price: 27.0\n"
     ]
    }
   ],
   "source": [
    "products = [\"t-shirt\", \"mug\", \"hat\", \"book\", \"keychain\"]\n",
    "\n",
    "\n",
    "inventory = initialize_inventory(products)\n",
    "print(\"initial inventory:\")\n",
    "print(inventory)\n",
    "\n",
    "customer_orders = get_customer_orders()\n",
    "print(\"\\nCustomer orders\")\n",
    "print(customer_orders)\n",
    "\n",
    "inventory = update_inventory(customer_orders, inventory)\n",
    "order_statistics = calculate_order_statistics(customer_orders, products)\n",
    "\n",
    "print_order_statistics(order_statistics)\n",
    "\n",
    "print_updated_inventory(inventory)\n",
    "\n",
    "total_price = calculate_total_price(customer_orders)\n",
    "print(f'\\nTotal Price: {total_price}')"
   ]
  },
  {
   "cell_type": "code",
   "execution_count": null,
   "id": "9f8bd0c5-fe8e-46ba-bdcf-5bdc37d506b0",
   "metadata": {},
   "outputs": [],
   "source": []
  }
 ],
 "metadata": {
  "kernelspec": {
   "display_name": "Python 3 (ipykernel)",
   "language": "python",
   "name": "python3"
  },
  "language_info": {
   "codemirror_mode": {
    "name": "ipython",
    "version": 3
   },
   "file_extension": ".py",
   "mimetype": "text/x-python",
   "name": "python",
   "nbconvert_exporter": "python",
   "pygments_lexer": "ipython3",
   "version": "3.11.7"
  }
 },
 "nbformat": 4,
 "nbformat_minor": 5
}
